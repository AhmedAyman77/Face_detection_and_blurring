{
 "cells": [
  {
   "cell_type": "code",
   "execution_count": 4,
   "metadata": {},
   "outputs": [],
   "source": [
    "import cv2\n",
    "import numpy as np\n",
    "import warnings\n",
    "warnings.filterwarnings(\"ignore\")"
   ]
  },
  {
   "cell_type": "code",
   "execution_count": null,
   "metadata": {},
   "outputs": [],
   "source": [
    "face_detection = cv2.CascadeClassifier('../../../../HaarCascade/haarcascade_frontalface_default.xml')"
   ]
  },
  {
   "cell_type": "markdown",
   "metadata": {},
   "source": [
    "# blurring the face in the image"
   ]
  },
  {
   "cell_type": "code",
   "execution_count": 42,
   "metadata": {},
   "outputs": [],
   "source": [
    "img = cv2.imread('A7med.jpeg')\n",
    "img = cv2.resize(img, (640,720))\n",
    "gray_img = cv2.cvtColor(img, cv2.COLOR_BGR2GRAY)\n",
    "\n",
    "\n",
    "out_faces = face_detection.detectMultiScale(gray_img, 1.1, 20)\n",
    "\n",
    "for (x, y, w, h) in out_faces:\n",
    "    # img = cv2.rectangle(img, (x, y), (x+w, y+h), (255, 0, 0), 4)\n",
    "    face = img[y:y+h, x:x+w]\n",
    "    img[y:y+h, x:x+w] = cv2.blur(face,(50,50))\n",
    "\n",
    "cv2.imshow('img',img)\n",
    "cv2.waitKey(0)\n",
    "cv2.destroyAllWindows()"
   ]
  },
  {
   "cell_type": "markdown",
   "metadata": {},
   "source": [
    "# blurring the face in the Video"
   ]
  },
  {
   "cell_type": "code",
   "execution_count": 45,
   "metadata": {},
   "outputs": [],
   "source": [
    "cap = cv2.VideoCapture(0)\n",
    "\n",
    "while True:\n",
    "    ret, frame = cap.read()\n",
    "\n",
    "    assert ret\n",
    "\n",
    "    frame = cv2.resize(frame, (640,720))\n",
    "    gray_img = cv2.cvtColor(frame, cv2.COLOR_BGR2GRAY)\n",
    "\n",
    "\n",
    "    out_faces = face_detection.detectMultiScale(gray_img, 1.1, 20)\n",
    "\n",
    "    for (x, y, w, h) in out_faces:\n",
    "        # img = cv2.rectangle(img, (x, y), (x+w, y+h), (255, 0, 0), 4)\n",
    "        face = frame[y:y+h, x:x+w]\n",
    "        frame[y:y+h, x:x+w] = cv2.blur(face,(50,50))\n",
    "\n",
    "    cv2.imshow('img',frame)\n",
    "    if cv2.waitKey(1) == 27:\n",
    "        break\n",
    "\n",
    "cap.release()\n",
    "cv2.waitKey(0)\n",
    "cv2.destroyAllWindows()"
   ]
  }
 ],
 "metadata": {
  "kernelspec": {
   "display_name": "Python 3",
   "language": "python",
   "name": "python3"
  },
  "language_info": {
   "codemirror_mode": {
    "name": "ipython",
    "version": 3
   },
   "file_extension": ".py",
   "mimetype": "text/x-python",
   "name": "python",
   "nbconvert_exporter": "python",
   "pygments_lexer": "ipython3",
   "version": "3.11.6"
  },
  "orig_nbformat": 4
 },
 "nbformat": 4,
 "nbformat_minor": 2
}
